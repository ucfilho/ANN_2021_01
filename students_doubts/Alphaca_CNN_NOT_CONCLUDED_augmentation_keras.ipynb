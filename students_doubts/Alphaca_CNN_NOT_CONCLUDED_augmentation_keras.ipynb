{
  "nbformat": 4,
  "nbformat_minor": 0,
  "metadata": {
    "accelerator": "GPU",
    "colab": {
      "name": "Alphaca_CNN_augmentation_keras.ipynb",
      "provenance": [],
      "authorship_tag": "ABX9TyNUHIGzCIzccoJVUlEbuZnc",
      "include_colab_link": true
    },
    "kernelspec": {
      "display_name": "Python 3",
      "name": "python3"
    },
    "language_info": {
      "name": "python"
    }
  },
  "cells": [
    {
      "cell_type": "markdown",
      "metadata": {
        "id": "view-in-github",
        "colab_type": "text"
      },
      "source": [
        "<a href=\"https://colab.research.google.com/github/ucfilho/ANN_2021_01/blob/main/students_doubts/Alphaca_CNN_NOT_CONCLUDED_augmentation_keras.ipynb\" target=\"_parent\"><img src=\"https://colab.research.google.com/assets/colab-badge.svg\" alt=\"Open In Colab\"/></a>"
      ]
    },
    {
      "cell_type": "code",
      "metadata": {
        "id": "hiuSktexsxMX"
      },
      "source": [
        "from matplotlib import pyplot as plt\n",
        "from sklearn import preprocessing\n",
        "from sklearn.model_selection import train_test_split\n",
        "from sklearn.metrics import classification_report\n",
        "import numpy as np\n",
        "import pandas as pd\n",
        "import cv2\n",
        "import random #gerar numeros aleatorios\n",
        "import zipfile  #para trabalhar com arquivos zip\n",
        "from keras.models import Sequential\n",
        "from keras.layers import Dense, Activation, Conv2D, MaxPooling2D, Flatten, Dropout, BatchNormalization\n",
        "from keras.datasets import cifar10\n",
        "from keras.preprocessing import image\n",
        "from sklearn.model_selection import train_test_split"
      ],
      "execution_count": 1,
      "outputs": []
    },
    {
      "cell_type": "code",
      "metadata": {
        "colab": {
          "base_uri": "https://localhost:8080/"
        },
        "id": "HuMy717xtDJB",
        "outputId": "22aa683b-cfaf-4fe1-a494-b441604e3251"
      },
      "source": [
        "#Importando os arquivos que estão no googledrive\n",
        "!gdown --id 1X7ZqP9uAwaOAhv9j9CsI0KKlCjkoX3YH"
      ],
      "execution_count": 2,
      "outputs": [
        {
          "output_type": "stream",
          "text": [
            "Downloading...\n",
            "From: https://drive.google.com/uc?id=1X7ZqP9uAwaOAhv9j9CsI0KKlCjkoX3YH\n",
            "To: /content/Animals.zip\n",
            "122MB [00:00, 159MB/s] \n"
          ],
          "name": "stdout"
        }
      ]
    },
    {
      "cell_type": "code",
      "metadata": {
        "id": "qItN_gfR0zXI"
      },
      "source": [
        "def ynindicator(Y):\n",
        "  N = len(Y)\n",
        "  K = len(set(Y))\n",
        "  I = np.zeros((N, K))\n",
        "  I[np.arange(N), Y] = 1\n",
        "  return I"
      ],
      "execution_count": 3,
      "outputs": []
    },
    {
      "cell_type": "code",
      "metadata": {
        "id": "QIPXn6Tine0W"
      },
      "source": [
        "#Extraindo os arquivos zip e salvando na variavel x\n",
        "Arq =['Animals.zip']  #importando os arquivos\n",
        "Image_Size=80\n",
        "Image_Name=[]  #lista em branco para armazenar os nomes das imagens \n",
        "X_Gray = []\n",
        "for FILE in Arq:\n",
        "  file_name = zipfile.ZipFile(FILE, 'r')\n",
        "  file_name.extractall()    #extraindo os arquivos e colocando em uma lista unica com os nomes\n",
        "  with zipfile.ZipFile(FILE, \"r\") as f:\n",
        "      for Name in f.namelist():\n",
        "          Image_Name.append(Name)\n",
        "          X_Gray.append(cv2.resize(cv2.imread(Name, 0),(Image_Size,Image_Size))) "
      ],
      "execution_count": 4,
      "outputs": []
    },
    {
      "cell_type": "code",
      "metadata": {
        "id": "6gZ9S9vT1zwk"
      },
      "source": [
        ""
      ],
      "execution_count": 4,
      "outputs": []
    },
    {
      "cell_type": "code",
      "metadata": {
        "id": "ygo1EucTzfeG"
      },
      "source": [
        "#Recuperando o nome com 4 primeiras letras\n",
        "Y_Names = []\n",
        "for yy in Image_Name:\n",
        "  Name = yy[0]+yy[1]+yy[2]+yy[3]\n",
        "  Y_Names.append(Name)\n",
        "  #print(Y_Names)"
      ],
      "execution_count": 5,
      "outputs": []
    },
    {
      "cell_type": "code",
      "metadata": {
        "id": "q7L-oIKezpRN"
      },
      "source": [
        "Unique_List = []      #gera uma lista unica da ANN\n",
        "for yy in Y_Names:\n",
        "  if yy not in Unique_List:\n",
        "    Unique_List.append(yy) "
      ],
      "execution_count": 6,
      "outputs": []
    },
    {
      "cell_type": "code",
      "metadata": {
        "id": "-KhGH65gzqVA"
      },
      "source": [
        "n = len(Unique_List)  #separa em classes ao inves de nome aparece o índice referente\n",
        "Y = []\n",
        "for yy in Y_Names:\n",
        "  for i in range(n):\n",
        "    if(yy == Unique_List[i]):\n",
        "      Y.append(i)"
      ],
      "execution_count": 7,
      "outputs": []
    },
    {
      "cell_type": "code",
      "metadata": {
        "id": "lINg08Ea0rvf"
      },
      "source": [
        "DATASET_SIZE = len(Y_Names)\n",
        "Ind = range(DATASET_SIZE)\n",
        "Img_Size = 80\n",
        "num_range = DATASET_SIZE"
      ],
      "execution_count": 8,
      "outputs": []
    },
    {
      "cell_type": "code",
      "metadata": {
        "id": "5JaKoK4WzuRv"
      },
      "source": [
        "Ind_train, Ind_test= train_test_split(Ind,test_size=0.20, shuffle=True, random_state=3)"
      ],
      "execution_count": 9,
      "outputs": []
    },
    {
      "cell_type": "code",
      "metadata": {
        "id": "SwgyUxqD0Of1"
      },
      "source": [
        "X_train = []\n",
        "Y_train = []\n",
        "for II in Ind_train:\n",
        "  name = Image_Name[II]\n",
        "  X_train.append(cv2.resize(cv2.imread(name),(Img_Size,Img_Size)))\n",
        "  Y_train.append(Y[II])"
      ],
      "execution_count": 10,
      "outputs": []
    },
    {
      "cell_type": "code",
      "metadata": {
        "colab": {
          "base_uri": "https://localhost:8080/"
        },
        "id": "7Ii-bedj2aFY",
        "outputId": "bc20f661-6c75-43d1-f924-1e98d38d428f"
      },
      "source": [
        "#print(len(Y_train))\n",
        "#DATASET_SIZE\n",
        "print(len(Ind_train))\n",
        "print(np.array(X_train).shape)"
      ],
      "execution_count": 11,
      "outputs": [
        {
          "output_type": "stream",
          "text": [
            "261\n",
            "(261, 80, 80, 3)\n"
          ],
          "name": "stdout"
        }
      ]
    },
    {
      "cell_type": "code",
      "metadata": {
        "colab": {
          "base_uri": "https://localhost:8080/"
        },
        "id": "IuxEHEmt3O0u",
        "outputId": "c6eb9c25-4065-4670-8e26-84bfabb900eb"
      },
      "source": [
        "np.array(Y_train).shape"
      ],
      "execution_count": 12,
      "outputs": [
        {
          "output_type": "execute_result",
          "data": {
            "text/plain": [
              "(261,)"
            ]
          },
          "metadata": {
            "tags": []
          },
          "execution_count": 12
        }
      ]
    },
    {
      "cell_type": "code",
      "metadata": {
        "id": "Y4c3wdLN0R3-"
      },
      "source": [
        "X_test= []\n",
        "Y_test = []\n",
        "for II in Ind_test:\n",
        "  name = Image_Name[II]\n",
        "  X_test.append(cv2.resize(cv2.imread(name),(Img_Size,Img_Size)))\n",
        "  Y_test.append(Y[II])"
      ],
      "execution_count": 13,
      "outputs": []
    },
    {
      "cell_type": "code",
      "metadata": {
        "id": "fOA6h8q5525W"
      },
      "source": [
        "#Y"
      ],
      "execution_count": 14,
      "outputs": []
    },
    {
      "cell_type": "code",
      "metadata": {
        "id": "F5N23tIa0ay4"
      },
      "source": [
        "X_train = np.array(X_train)\n",
        "Y_train = np.array(Y_train)\n",
        "K = len(set(Y_train))\n",
        "X_train = X_train.reshape(-1, Img_Size, Img_Size, 3) / 255.0\n",
        "Y_train = Y_train.astype(np.int32)\n",
        "#Y_train = Y_train.reshape(1,-1)\n",
        "#Y_train = ynindicator(Y_train)\n",
        "\n",
        "X_test = np.array(X_test )\n",
        "Y_test = np.array(Y_test)\n",
        "X_test = X_test.reshape(-1, Img_Size, Img_Size, 3) / 255.0\n",
        "Y_test = Y_test.astype(np.int32)\n",
        "#Y_test = Y_test.reshape(1,-1)\n",
        "#Y_test = ynindicator(Y_test)"
      ],
      "execution_count": 15,
      "outputs": []
    },
    {
      "cell_type": "code",
      "metadata": {
        "id": "svrqRNf7jjZk"
      },
      "source": [
        "#Y_test = Y_test.ravel()\n",
        "#Y_train = Y_train.ravel()"
      ],
      "execution_count": 16,
      "outputs": []
    },
    {
      "cell_type": "code",
      "metadata": {
        "colab": {
          "base_uri": "https://localhost:8080/"
        },
        "id": "q4Ern6ap4DTx",
        "outputId": "34b4a7b4-cfd5-49df-a65e-35f12f9696b8"
      },
      "source": [
        "print(Y_train.shape)"
      ],
      "execution_count": 17,
      "outputs": [
        {
          "output_type": "stream",
          "text": [
            "(261,)\n"
          ],
          "name": "stdout"
        }
      ]
    },
    {
      "cell_type": "code",
      "metadata": {
        "colab": {
          "base_uri": "https://localhost:8080/"
        },
        "id": "HF2voNt14OAe",
        "outputId": "6543baa8-de4d-4a6e-c298-769a56f3e712"
      },
      "source": [
        "print(Y_train)"
      ],
      "execution_count": 18,
      "outputs": [
        {
          "output_type": "stream",
          "text": [
            "[0 1 0 1 0 1 0 0 0 0 1 1 0 0 0 1 1 1 1 1 0 0 0 0 0 0 1 0 1 0 1 1 0 0 1 1 1\n",
            " 1 0 1 0 0 1 0 0 1 1 1 1 0 1 0 0 1 0 0 0 0 1 1 1 1 1 1 1 1 1 0 1 1 1 1 0 0\n",
            " 0 1 1 0 1 0 1 1 0 0 1 0 0 1 1 0 1 1 0 1 0 0 1 0 1 0 0 1 0 1 0 0 1 0 0 0 0\n",
            " 1 0 1 1 1 0 0 1 1 0 1 1 1 1 1 1 1 1 0 1 1 0 1 1 1 1 0 1 0 0 1 1 1 0 0 1 1\n",
            " 1 1 1 1 0 0 0 0 1 0 0 0 1 1 1 0 1 0 1 0 1 1 1 1 1 0 1 0 1 1 0 1 1 1 1 0 1\n",
            " 0 1 1 0 0 0 1 1 1 1 0 1 1 0 1 0 1 1 1 1 0 1 0 1 0 0 1 1 1 1 1 0 1 0 0 0 1\n",
            " 1 1 1 1 1 1 1 0 0 0 1 0 0 1 1 0 1 0 1 0 0 0 0 0 1 1 0 0 1 0 0 1 1 1 1 1 0\n",
            " 1 1]\n"
          ],
          "name": "stdout"
        }
      ]
    },
    {
      "cell_type": "code",
      "metadata": {
        "id": "l_t3Zcgqsiwc"
      },
      "source": [
        "# helper\n",
        "def ynindicator(Y):\n",
        "  N = len(Y)\n",
        "  K = len(set(Y))\n",
        "  I = np.zeros((N, K))\n",
        "  I[np.arange(N), Y] = 1\n",
        "  return I\n",
        "\n",
        "X_train = np.array(X_train)\n",
        "Y_train = np.array(Y_train)\n",
        "K = len(set(Y_train))\n",
        "\n",
        "X_train = X_train.reshape(-1, Img_Size, Img_Size, 3) / 255.0\n",
        "Y_train = Y_train.astype(np.int32)\n",
        "#Y_train = Y_train.reshape(1,-1)\n",
        "#Y_train = ynindicator(Y_train)\n",
        "\n",
        "X_test = np.array(X_test )\n",
        "Y_test = np.array(Y_test)\n",
        "X_test = X_test.reshape(-1, Img_Size, Img_Size, 3) / 255.0\n",
        "Y_test = Y_test.astype(np.int32)\n",
        "#Y_test = Y_test.reshape(1,-1)\n",
        "#Y_test = ynindicator(Y_test)\n",
        "\n",
        "\n",
        "\n",
        "# the model will be a sequence of layers\n",
        "\n",
        "model = Sequential()\n",
        "\n",
        "\n",
        "# make the CNN\n",
        "# model.add(Input(shape=(28, 28, 1)))\n",
        "model.add(Conv2D(input_shape=(Img_Size, Img_Size, 3), filters=32, kernel_size=(3, 3)))\n",
        "model.add(BatchNormalization())\n",
        "model.add(Activation('relu'))\n",
        "model.add(MaxPooling2D())\n",
        "\n",
        "model.add(Conv2D(filters=64, kernel_size=(3, 3)))\n",
        "model.add(BatchNormalization())\n",
        "model.add(Activation('relu'))\n",
        "model.add(MaxPooling2D())\n",
        "\n",
        "model.add(Conv2D(filters=128, kernel_size=(3, 3)))\n",
        "model.add(BatchNormalization())\n",
        "model.add(Activation('relu'))\n",
        "model.add(MaxPooling2D())\n",
        "\n",
        "model.add(Flatten())\n",
        "model.add(Dense(units=80))\n",
        "model.add(Activation('relu'))\n",
        "model.add(Dropout(0.2))\n",
        "model.add(Dense(units=1))\n",
        "model.add(Activation('softmax'))\n",
        "\n",
        "\n",
        "'''\n",
        "model.compile(\n",
        "  loss='categorical_crossentropy',\n",
        "  optimizer='adam',\n",
        "  metrics=['accuracy']\n",
        ")\n",
        "'''\n",
        "model.compile(optimizer='adam',\n",
        "              loss='sparse_categorical_crossentropy',\n",
        "              metrics =['accuracy'])"
      ],
      "execution_count": 19,
      "outputs": []
    },
    {
      "cell_type": "code",
      "metadata": {
        "colab": {
          "base_uri": "https://localhost:8080/"
        },
        "id": "5prWPT1EOnyT",
        "outputId": "7676031e-da51-472a-8d13-4caf33f14fd8"
      },
      "source": [
        "print(Y_train.shape)\n",
        "print(X_train.shape)"
      ],
      "execution_count": 20,
      "outputs": [
        {
          "output_type": "stream",
          "text": [
            "(261,)\n",
            "(261, 80, 80, 3)\n"
          ],
          "name": "stdout"
        }
      ]
    },
    {
      "cell_type": "code",
      "metadata": {
        "colab": {
          "base_uri": "https://localhost:8080/"
        },
        "id": "G-apcqtQ7L0p",
        "outputId": "2f969f2a-51a2-4da8-eb23-d104b8e3139d"
      },
      "source": [
        "K"
      ],
      "execution_count": 21,
      "outputs": [
        {
          "output_type": "execute_result",
          "data": {
            "text/plain": [
              "2"
            ]
          },
          "metadata": {
            "tags": []
          },
          "execution_count": 21
        }
      ]
    },
    {
      "cell_type": "code",
      "metadata": {
        "colab": {
          "base_uri": "https://localhost:8080/"
        },
        "id": "jdk4mQxIvhRN",
        "outputId": "7ed36e19-652c-4be5-fcb7-457dfb8e37cb"
      },
      "source": [
        "# gives us back a <keras.callbacks.History object at 0x112e61a90>\n",
        "#r = model.fit(X_train, Y_train, epochs=15, batch_size=32)\n",
        "r = model.fit(X_train,Y_train, validation_data=(X_test,Y_test), batch_size=10, epochs=50)"
      ],
      "execution_count": 22,
      "outputs": [
        {
          "output_type": "stream",
          "text": [
            "Epoch 1/50\n",
            "27/27 [==============================] - 21s 45ms/step - loss: nan - accuracy: 0.5157 - val_loss: nan - val_accuracy: 0.4394\n",
            "Epoch 2/50\n",
            "27/27 [==============================] - 0s 7ms/step - loss: nan - accuracy: 0.4458 - val_loss: nan - val_accuracy: 0.4394\n",
            "Epoch 3/50\n",
            "27/27 [==============================] - 0s 7ms/step - loss: nan - accuracy: 0.4488 - val_loss: nan - val_accuracy: 0.4394\n",
            "Epoch 4/50\n",
            "27/27 [==============================] - 0s 7ms/step - loss: nan - accuracy: 0.4535 - val_loss: nan - val_accuracy: 0.4394\n",
            "Epoch 5/50\n",
            "27/27 [==============================] - 0s 7ms/step - loss: nan - accuracy: 0.4564 - val_loss: nan - val_accuracy: 0.4394\n",
            "Epoch 6/50\n",
            "27/27 [==============================] - 0s 7ms/step - loss: nan - accuracy: 0.4591 - val_loss: nan - val_accuracy: 0.4394\n",
            "Epoch 7/50\n",
            "27/27 [==============================] - 0s 8ms/step - loss: nan - accuracy: 0.4365 - val_loss: nan - val_accuracy: 0.4394\n",
            "Epoch 8/50\n",
            "27/27 [==============================] - 0s 8ms/step - loss: nan - accuracy: 0.3997 - val_loss: nan - val_accuracy: 0.4394\n",
            "Epoch 9/50\n",
            "27/27 [==============================] - 0s 7ms/step - loss: nan - accuracy: 0.4441 - val_loss: nan - val_accuracy: 0.4394\n",
            "Epoch 10/50\n",
            "27/27 [==============================] - 0s 7ms/step - loss: nan - accuracy: 0.4488 - val_loss: nan - val_accuracy: 0.4394\n",
            "Epoch 11/50\n",
            "27/27 [==============================] - 0s 7ms/step - loss: nan - accuracy: 0.3988 - val_loss: nan - val_accuracy: 0.4394\n",
            "Epoch 12/50\n",
            "27/27 [==============================] - 0s 7ms/step - loss: nan - accuracy: 0.4451 - val_loss: nan - val_accuracy: 0.4394\n",
            "Epoch 13/50\n",
            "27/27 [==============================] - 0s 7ms/step - loss: nan - accuracy: 0.4229 - val_loss: nan - val_accuracy: 0.4394\n",
            "Epoch 14/50\n",
            "27/27 [==============================] - 0s 7ms/step - loss: nan - accuracy: 0.3901 - val_loss: nan - val_accuracy: 0.4394\n",
            "Epoch 15/50\n",
            "27/27 [==============================] - 0s 9ms/step - loss: nan - accuracy: 0.3982 - val_loss: nan - val_accuracy: 0.4394\n",
            "Epoch 16/50\n",
            "27/27 [==============================] - 0s 7ms/step - loss: nan - accuracy: 0.4214 - val_loss: nan - val_accuracy: 0.4394\n",
            "Epoch 17/50\n",
            "27/27 [==============================] - 0s 7ms/step - loss: nan - accuracy: 0.4021 - val_loss: nan - val_accuracy: 0.4394\n",
            "Epoch 18/50\n",
            "27/27 [==============================] - 0s 7ms/step - loss: nan - accuracy: 0.4469 - val_loss: nan - val_accuracy: 0.4394\n",
            "Epoch 19/50\n",
            "27/27 [==============================] - 0s 7ms/step - loss: nan - accuracy: 0.4723 - val_loss: nan - val_accuracy: 0.4394\n",
            "Epoch 20/50\n",
            "27/27 [==============================] - 0s 7ms/step - loss: nan - accuracy: 0.4531 - val_loss: nan - val_accuracy: 0.4394\n",
            "Epoch 21/50\n",
            "27/27 [==============================] - 0s 7ms/step - loss: nan - accuracy: 0.4323 - val_loss: nan - val_accuracy: 0.4394\n",
            "Epoch 22/50\n",
            "27/27 [==============================] - 0s 7ms/step - loss: nan - accuracy: 0.3916 - val_loss: nan - val_accuracy: 0.4394\n",
            "Epoch 23/50\n",
            "27/27 [==============================] - 0s 7ms/step - loss: nan - accuracy: 0.4142 - val_loss: nan - val_accuracy: 0.4394\n",
            "Epoch 24/50\n",
            "27/27 [==============================] - 0s 8ms/step - loss: nan - accuracy: 0.3691 - val_loss: nan - val_accuracy: 0.4394\n",
            "Epoch 25/50\n",
            "27/27 [==============================] - 0s 7ms/step - loss: nan - accuracy: 0.4826 - val_loss: nan - val_accuracy: 0.4394\n",
            "Epoch 26/50\n",
            "27/27 [==============================] - 0s 7ms/step - loss: nan - accuracy: 0.4433 - val_loss: nan - val_accuracy: 0.4394\n",
            "Epoch 27/50\n",
            "27/27 [==============================] - 0s 7ms/step - loss: nan - accuracy: 0.4545 - val_loss: nan - val_accuracy: 0.4394\n",
            "Epoch 28/50\n",
            "27/27 [==============================] - 0s 7ms/step - loss: nan - accuracy: 0.4315 - val_loss: nan - val_accuracy: 0.4394\n",
            "Epoch 29/50\n",
            "27/27 [==============================] - 0s 7ms/step - loss: nan - accuracy: 0.4609 - val_loss: nan - val_accuracy: 0.4394\n",
            "Epoch 30/50\n",
            "27/27 [==============================] - 0s 7ms/step - loss: nan - accuracy: 0.4269 - val_loss: nan - val_accuracy: 0.4394\n",
            "Epoch 31/50\n",
            "27/27 [==============================] - 0s 8ms/step - loss: nan - accuracy: 0.4506 - val_loss: nan - val_accuracy: 0.4394\n",
            "Epoch 32/50\n",
            "27/27 [==============================] - 0s 7ms/step - loss: nan - accuracy: 0.4624 - val_loss: nan - val_accuracy: 0.4394\n",
            "Epoch 33/50\n",
            "27/27 [==============================] - 0s 8ms/step - loss: nan - accuracy: 0.3914 - val_loss: nan - val_accuracy: 0.4394\n",
            "Epoch 34/50\n",
            "27/27 [==============================] - 0s 8ms/step - loss: nan - accuracy: 0.4177 - val_loss: nan - val_accuracy: 0.4394\n",
            "Epoch 35/50\n",
            "27/27 [==============================] - 0s 7ms/step - loss: nan - accuracy: 0.4816 - val_loss: nan - val_accuracy: 0.4394\n",
            "Epoch 36/50\n",
            "27/27 [==============================] - 0s 7ms/step - loss: nan - accuracy: 0.4066 - val_loss: nan - val_accuracy: 0.4394\n",
            "Epoch 37/50\n",
            "27/27 [==============================] - 0s 7ms/step - loss: nan - accuracy: 0.4418 - val_loss: nan - val_accuracy: 0.4394\n",
            "Epoch 38/50\n",
            "27/27 [==============================] - 0s 7ms/step - loss: nan - accuracy: 0.4498 - val_loss: nan - val_accuracy: 0.4394\n",
            "Epoch 39/50\n",
            "27/27 [==============================] - 0s 8ms/step - loss: nan - accuracy: 0.4301 - val_loss: nan - val_accuracy: 0.4394\n",
            "Epoch 40/50\n",
            "27/27 [==============================] - 0s 7ms/step - loss: nan - accuracy: 0.4319 - val_loss: nan - val_accuracy: 0.4394\n",
            "Epoch 41/50\n",
            "27/27 [==============================] - 0s 7ms/step - loss: nan - accuracy: 0.4146 - val_loss: nan - val_accuracy: 0.4394\n",
            "Epoch 42/50\n",
            "27/27 [==============================] - 0s 7ms/step - loss: nan - accuracy: 0.4403 - val_loss: nan - val_accuracy: 0.4394\n",
            "Epoch 43/50\n",
            "27/27 [==============================] - 0s 7ms/step - loss: nan - accuracy: 0.4547 - val_loss: nan - val_accuracy: 0.4394\n",
            "Epoch 44/50\n",
            "27/27 [==============================] - 0s 8ms/step - loss: nan - accuracy: 0.4649 - val_loss: nan - val_accuracy: 0.4394\n",
            "Epoch 45/50\n",
            "27/27 [==============================] - 0s 7ms/step - loss: nan - accuracy: 0.4663 - val_loss: nan - val_accuracy: 0.4394\n",
            "Epoch 46/50\n",
            "27/27 [==============================] - 0s 7ms/step - loss: nan - accuracy: 0.4248 - val_loss: nan - val_accuracy: 0.4394\n",
            "Epoch 47/50\n",
            "27/27 [==============================] - 0s 7ms/step - loss: nan - accuracy: 0.4244 - val_loss: nan - val_accuracy: 0.4394\n",
            "Epoch 48/50\n",
            "27/27 [==============================] - 0s 7ms/step - loss: nan - accuracy: 0.4623 - val_loss: nan - val_accuracy: 0.4394\n",
            "Epoch 49/50\n",
            "27/27 [==============================] - 0s 7ms/step - loss: nan - accuracy: 0.4643 - val_loss: nan - val_accuracy: 0.4394\n",
            "Epoch 50/50\n",
            "27/27 [==============================] - 0s 7ms/step - loss: nan - accuracy: 0.4221 - val_loss: nan - val_accuracy: 0.4394\n"
          ],
          "name": "stdout"
        }
      ]
    },
    {
      "cell_type": "markdown",
      "metadata": {
        "id": "jfotTO6l1jSj"
      },
      "source": [
        "C"
      ]
    },
    {
      "cell_type": "code",
      "metadata": {
        "id": "Rt0SXEiZvdu4",
        "colab": {
          "base_uri": "https://localhost:8080/"
        },
        "outputId": "1d3b9fef-c1d0-4d28-9ad8-2d009fa60ae2"
      },
      "source": [
        "\n",
        "# print the available keys\n",
        "# should see: dict_keys(['val_loss', 'acc', 'loss', 'val_acc'])\n",
        "print(r.history.keys())"
      ],
      "execution_count": 23,
      "outputs": [
        {
          "output_type": "stream",
          "text": [
            "dict_keys(['loss', 'accuracy', 'val_loss', 'val_accuracy'])\n"
          ],
          "name": "stdout"
        }
      ]
    },
    {
      "cell_type": "code",
      "metadata": {
        "id": "ClGT5XiAvcim",
        "colab": {
          "base_uri": "https://localhost:8080/",
          "height": 265
        },
        "outputId": "94262502-eefa-4085-c994-f923d46efa5d"
      },
      "source": [
        "\n",
        "# plot some data\n",
        "plt.plot(r.history['loss'], label='loss')\n",
        "plt.plot(r.history['val_loss'], label='val_loss')\n",
        "plt.legend()\n",
        "plt.show()\n"
      ],
      "execution_count": 24,
      "outputs": [
        {
          "output_type": "display_data",
          "data": {
            "image/png": "[encoded data removed]",
            "text/plain": [
              "<Figure size 432x288 with 1 Axes>"
            ]
          },
          "metadata": {
            "tags": [],
            "needs_background": "light"
          }
        }
      ]
    },
    {
      "cell_type": "code",
      "metadata": {
        "id": "roMaf-IAvqro",
        "colab": {
          "base_uri": "https://localhost:8080/",
          "height": 265
        },
        "outputId": "e3f36e84-016f-460f-aca2-2b5fd298096c"
      },
      "source": [
        "# accuracies\n",
        "plt.plot(r.history['accuracy'], label='acc')\n",
        "plt.plot(r.history['val_accuracy'], label='val_acc')\n",
        "plt.legend()\n",
        "plt.show()"
      ],
      "execution_count": 25,
      "outputs": [
        {
          "output_type": "display_data",
          "data": {
            "image/png": "[encoded data removed]",
            "text/plain": [
              "<Figure size 432x288 with 1 Axes>"
            ]
          },
          "metadata": {
            "tags": [],
            "needs_background": "light"
          }
        }
      ]
    },
    {
      "cell_type": "code",
      "metadata": {
        "colab": {
          "base_uri": "https://localhost:8080/"
        },
        "id": "dQkqdgziZkSJ",
        "outputId": "20e5774f-9e2b-4bc9-b55a-bfbb76fe385b"
      },
      "source": [
        "# Fit with data augmentation\n",
        "# Note: if you run this AFTER calling the previous model.fit(), it will CONTINUE training where it left off\n",
        "batch_size = 32\n",
        "data_generator = image.ImageDataGenerator(width_shift_range=0.1, height_shift_range=0.1, horizontal_flip=True)\n",
        "train_generator = data_generator.flow(X_train, Y_train, batch_size)\n",
        "steps_per_epoch = X_train.shape[0] // batch_size\n",
        "r = model.fit(train_generator, validation_data=(X_test, Y_test), steps_per_epoch=steps_per_epoch, epochs=50)"
      ],
      "execution_count": 26,
      "outputs": [
        {
          "output_type": "stream",
          "text": [
            "Epoch 1/50\n",
            "8/8 [==============================] - 2s 95ms/step - loss: nan - accuracy: 0.4192 - val_loss: nan - val_accuracy: 0.4394\n",
            "Epoch 2/50\n",
            "8/8 [==============================] - 0s 59ms/step - loss: nan - accuracy: 0.4105 - val_loss: nan - val_accuracy: 0.4394\n",
            "Epoch 3/50\n",
            "8/8 [==============================] - 0s 59ms/step - loss: nan - accuracy: 0.4410 - val_loss: nan - val_accuracy: 0.4394\n",
            "Epoch 4/50\n",
            "8/8 [==============================] - 0s 58ms/step - loss: nan - accuracy: 0.4323 - val_loss: nan - val_accuracy: 0.4394\n",
            "Epoch 5/50\n",
            "8/8 [==============================] - 1s 64ms/step - loss: nan - accuracy: 0.4454 - val_loss: nan - val_accuracy: 0.4394\n",
            "Epoch 6/50\n",
            "8/8 [==============================] - 0s 56ms/step - loss: nan - accuracy: 0.4192 - val_loss: nan - val_accuracy: 0.4394\n",
            "Epoch 7/50\n",
            "8/8 [==============================] - 0s 59ms/step - loss: nan - accuracy: 0.4323 - val_loss: nan - val_accuracy: 0.4394\n",
            "Epoch 8/50\n",
            "8/8 [==============================] - 1s 61ms/step - loss: nan - accuracy: 0.4279 - val_loss: nan - val_accuracy: 0.4394\n",
            "Epoch 9/50\n",
            "8/8 [==============================] - 1s 62ms/step - loss: nan - accuracy: 0.4323 - val_loss: nan - val_accuracy: 0.4394\n",
            "Epoch 10/50\n",
            "8/8 [==============================] - 0s 59ms/step - loss: nan - accuracy: 0.4367 - val_loss: nan - val_accuracy: 0.4394\n",
            "Epoch 11/50\n",
            "8/8 [==============================] - 0s 59ms/step - loss: nan - accuracy: 0.4192 - val_loss: nan - val_accuracy: 0.4394\n",
            "Epoch 12/50\n",
            "8/8 [==============================] - 1s 66ms/step - loss: nan - accuracy: 0.4297 - val_loss: nan - val_accuracy: 0.4394\n",
            "Epoch 13/50\n",
            "8/8 [==============================] - 0s 61ms/step - loss: nan - accuracy: 0.4236 - val_loss: nan - val_accuracy: 0.4394\n",
            "Epoch 14/50\n",
            "8/8 [==============================] - 0s 60ms/step - loss: nan - accuracy: 0.4105 - val_loss: nan - val_accuracy: 0.4394\n",
            "Epoch 15/50\n",
            "8/8 [==============================] - 0s 60ms/step - loss: nan - accuracy: 0.4279 - val_loss: nan - val_accuracy: 0.4394\n",
            "Epoch 16/50\n",
            "8/8 [==============================] - 1s 65ms/step - loss: nan - accuracy: 0.4541 - val_loss: nan - val_accuracy: 0.4394\n",
            "Epoch 17/50\n",
            "8/8 [==============================] - 0s 58ms/step - loss: nan - accuracy: 0.4323 - val_loss: nan - val_accuracy: 0.4394\n",
            "Epoch 18/50\n",
            "8/8 [==============================] - 0s 59ms/step - loss: nan - accuracy: 0.4192 - val_loss: nan - val_accuracy: 0.4394\n",
            "Epoch 19/50\n",
            "8/8 [==============================] - 0s 59ms/step - loss: nan - accuracy: 0.4498 - val_loss: nan - val_accuracy: 0.4394\n",
            "Epoch 20/50\n",
            "8/8 [==============================] - 1s 64ms/step - loss: nan - accuracy: 0.4375 - val_loss: nan - val_accuracy: 0.4394\n",
            "Epoch 21/50\n",
            "8/8 [==============================] - 0s 60ms/step - loss: nan - accuracy: 0.4454 - val_loss: nan - val_accuracy: 0.4394\n",
            "Epoch 22/50\n",
            "8/8 [==============================] - 0s 59ms/step - loss: nan - accuracy: 0.4192 - val_loss: nan - val_accuracy: 0.4394\n",
            "Epoch 23/50\n",
            "8/8 [==============================] - 0s 59ms/step - loss: nan - accuracy: 0.4323 - val_loss: nan - val_accuracy: 0.4394\n",
            "Epoch 24/50\n",
            "8/8 [==============================] - 0s 59ms/step - loss: nan - accuracy: 0.4279 - val_loss: nan - val_accuracy: 0.4394\n",
            "Epoch 25/50\n",
            "8/8 [==============================] - 1s 64ms/step - loss: nan - accuracy: 0.4375 - val_loss: nan - val_accuracy: 0.4394\n",
            "Epoch 26/50\n",
            "8/8 [==============================] - 1s 67ms/step - loss: nan - accuracy: 0.4236 - val_loss: nan - val_accuracy: 0.4394\n",
            "Epoch 27/50\n",
            "8/8 [==============================] - 1s 62ms/step - loss: nan - accuracy: 0.4105 - val_loss: nan - val_accuracy: 0.4394\n",
            "Epoch 28/50\n",
            "8/8 [==============================] - 1s 63ms/step - loss: nan - accuracy: 0.4498 - val_loss: nan - val_accuracy: 0.4394\n",
            "Epoch 29/50\n",
            "8/8 [==============================] - 0s 61ms/step - loss: nan - accuracy: 0.4279 - val_loss: nan - val_accuracy: 0.4394\n",
            "Epoch 30/50\n",
            "8/8 [==============================] - 0s 60ms/step - loss: nan - accuracy: 0.4410 - val_loss: nan - val_accuracy: 0.4394\n",
            "Epoch 31/50\n",
            "8/8 [==============================] - 0s 59ms/step - loss: nan - accuracy: 0.4236 - val_loss: nan - val_accuracy: 0.4394\n",
            "Epoch 32/50\n",
            "8/8 [==============================] - 0s 59ms/step - loss: nan - accuracy: 0.4323 - val_loss: nan - val_accuracy: 0.4394\n",
            "Epoch 33/50\n",
            "8/8 [==============================] - 0s 59ms/step - loss: nan - accuracy: 0.4498 - val_loss: nan - val_accuracy: 0.4394\n",
            "Epoch 34/50\n",
            "8/8 [==============================] - 1s 64ms/step - loss: nan - accuracy: 0.4297 - val_loss: nan - val_accuracy: 0.4394\n",
            "Epoch 35/50\n",
            "8/8 [==============================] - 0s 57ms/step - loss: nan - accuracy: 0.4410 - val_loss: nan - val_accuracy: 0.4394\n",
            "Epoch 36/50\n",
            "8/8 [==============================] - 0s 58ms/step - loss: nan - accuracy: 0.4410 - val_loss: nan - val_accuracy: 0.4394\n",
            "Epoch 37/50\n",
            "8/8 [==============================] - 0s 60ms/step - loss: nan - accuracy: 0.4454 - val_loss: nan - val_accuracy: 0.4394\n",
            "Epoch 38/50\n",
            "8/8 [==============================] - 1s 67ms/step - loss: nan - accuracy: 0.4375 - val_loss: nan - val_accuracy: 0.4394\n",
            "Epoch 39/50\n",
            "8/8 [==============================] - 0s 59ms/step - loss: nan - accuracy: 0.4236 - val_loss: nan - val_accuracy: 0.4394\n",
            "Epoch 40/50\n",
            "8/8 [==============================] - 0s 59ms/step - loss: nan - accuracy: 0.4541 - val_loss: nan - val_accuracy: 0.4394\n",
            "Epoch 41/50\n",
            "8/8 [==============================] - 0s 58ms/step - loss: nan - accuracy: 0.4279 - val_loss: nan - val_accuracy: 0.4394\n",
            "Epoch 42/50\n",
            "8/8 [==============================] - 0s 69ms/step - loss: nan - accuracy: 0.4367 - val_loss: nan - val_accuracy: 0.4394\n",
            "Epoch 43/50\n",
            "8/8 [==============================] - 0s 65ms/step - loss: nan - accuracy: 0.4323 - val_loss: nan - val_accuracy: 0.4394\n",
            "Epoch 44/50\n",
            "8/8 [==============================] - 0s 59ms/step - loss: nan - accuracy: 0.4236 - val_loss: nan - val_accuracy: 0.4394\n",
            "Epoch 45/50\n",
            "8/8 [==============================] - 1s 64ms/step - loss: nan - accuracy: 0.4323 - val_loss: nan - val_accuracy: 0.4394\n",
            "Epoch 46/50\n",
            "8/8 [==============================] - 0s 59ms/step - loss: nan - accuracy: 0.4323 - val_loss: nan - val_accuracy: 0.4394\n",
            "Epoch 47/50\n",
            "8/8 [==============================] - 0s 58ms/step - loss: nan - accuracy: 0.4323 - val_loss: nan - val_accuracy: 0.4394\n",
            "Epoch 48/50\n",
            "8/8 [==============================] - 0s 59ms/step - loss: nan - accuracy: 0.4410 - val_loss: nan - val_accuracy: 0.4394\n",
            "Epoch 49/50\n",
            "8/8 [==============================] - 0s 60ms/step - loss: nan - accuracy: 0.4236 - val_loss: nan - val_accuracy: 0.4394\n",
            "Epoch 50/50\n",
            "8/8 [==============================] - 1s 66ms/step - loss: nan - accuracy: 0.4297 - val_loss: nan - val_accuracy: 0.4394\n"
          ],
          "name": "stdout"
        }
      ]
    },
    {
      "cell_type": "code",
      "metadata": {
        "colab": {
          "base_uri": "https://localhost:8080/",
          "height": 265
        },
        "id": "ORxDPGsHd8F2",
        "outputId": "add2301c-d1a3-46ec-b312-6bd1c7a6e196"
      },
      "source": [
        "# plot some data\n",
        "plt.plot(r.history['loss'], label='loss')\n",
        "plt.plot(r.history['val_loss'], label='val_loss')\n",
        "plt.legend()\n",
        "plt.show()\n"
      ],
      "execution_count": 27,
      "outputs": [
        {
          "output_type": "display_data",
          "data": {
            "image/png": "[encoded data removed]",
            "text/plain": [
              "<Figure size 432x288 with 1 Axes>"
            ]
          },
          "metadata": {
            "tags": [],
            "needs_background": "light"
          }
        }
      ]
    },
    {
      "cell_type": "code",
      "metadata": {
        "colab": {
          "base_uri": "https://localhost:8080/",
          "height": 265
        },
        "id": "Lu6-wzYad9p8",
        "outputId": "0175ec74-00b1-411a-cd7f-e663b7dee675"
      },
      "source": [
        "# accuracies\n",
        "plt.plot(r.history['accuracy'], label='acc')\n",
        "plt.plot(r.history['val_accuracy'], label='val_acc')\n",
        "plt.legend()\n",
        "plt.show()"
      ],
      "execution_count": 28,
      "outputs": [
        {
          "output_type": "display_data",
          "data": {
            "image/png": "[encoded data removed]",
            "text/plain": [
              "<Figure size 432x288 with 1 Axes>"
            ]
          },
          "metadata": {
            "tags": [],
            "needs_background": "light"
          }
        }
      ]
    },
    {
      "cell_type": "code",
      "metadata": {
        "id": "tgqUk-L2kL3R",
        "colab": {
          "base_uri": "https://localhost:8080/"
        },
        "outputId": "831e3b20-d603-43a2-d08e-926e83cd269f"
      },
      "source": [
        "ynew = model.predict_classes(X_test)\n",
        "print(ynew)"
      ],
      "execution_count": 29,
      "outputs": [
        {
          "output_type": "stream",
          "text": [
            "/usr/local/lib/python3.7/dist-packages/keras/engine/sequential.py:450: UserWarning: `model.predict_classes()` is deprecated and will be removed after 2021-01-01. Please use instead:* `np.argmax(model.predict(x), axis=-1)`,   if your model does multi-class classification   (e.g. if it uses a `softmax` last-layer activation).* `(model.predict(x) > 0.5).astype(\"int32\")`,   if your model does binary classification   (e.g. if it uses a `sigmoid` last-layer activation).\n",
            "  warnings.warn('`model.predict_classes()` is deprecated and '\n"
          ],
          "name": "stderr"
        },
        {
          "output_type": "stream",
          "text": [
            "[[0]\n",
            " [0]\n",
            " [0]\n",
            " [0]\n",
            " [0]\n",
            " [0]\n",
            " [0]\n",
            " [0]\n",
            " [0]\n",
            " [0]\n",
            " [0]\n",
            " [0]\n",
            " [0]\n",
            " [0]\n",
            " [0]\n",
            " [0]\n",
            " [0]\n",
            " [0]\n",
            " [0]\n",
            " [0]\n",
            " [0]\n",
            " [0]\n",
            " [0]\n",
            " [0]\n",
            " [0]\n",
            " [0]\n",
            " [0]\n",
            " [0]\n",
            " [0]\n",
            " [0]\n",
            " [0]\n",
            " [0]\n",
            " [0]\n",
            " [0]\n",
            " [0]\n",
            " [0]\n",
            " [0]\n",
            " [0]\n",
            " [0]\n",
            " [0]\n",
            " [0]\n",
            " [0]\n",
            " [0]\n",
            " [0]\n",
            " [0]\n",
            " [0]\n",
            " [0]\n",
            " [0]\n",
            " [0]\n",
            " [0]\n",
            " [0]\n",
            " [0]\n",
            " [0]\n",
            " [0]\n",
            " [0]\n",
            " [0]\n",
            " [0]\n",
            " [0]\n",
            " [0]\n",
            " [0]\n",
            " [0]\n",
            " [0]\n",
            " [0]\n",
            " [0]\n",
            " [0]\n",
            " [0]]\n"
          ],
          "name": "stdout"
        }
      ]
    },
    {
      "cell_type": "code",
      "metadata": {
        "id": "Ke97BDall_6o"
      },
      "source": [
        "N_test = len(ynew)"
      ],
      "execution_count": 30,
      "outputs": []
    },
    {
      "cell_type": "code",
      "metadata": {
        "id": "MEah48_2piJS"
      },
      "source": [
        "y_resp = (model.predict(X_test) > 0.5).astype(\"int32\")\n",
        "#print(y_resp)"
      ],
      "execution_count": 31,
      "outputs": []
    },
    {
      "cell_type": "code",
      "metadata": {
        "id": "ahdlyTPZw7fu"
      },
      "source": [
        "# model.predict(X_test)"
      ],
      "execution_count": 32,
      "outputs": []
    },
    {
      "cell_type": "code",
      "metadata": {
        "id": "LpxchoawxD-U"
      },
      "source": [
        "# (model.predict(X_test)[0] > 0.5).astype(\"int32\")"
      ],
      "execution_count": 33,
      "outputs": []
    },
    {
      "cell_type": "code",
      "metadata": {
        "id": "vomVndT8p2jC",
        "colab": {
          "base_uri": "https://localhost:8080/",
          "height": 235
        },
        "outputId": "99b511b5-bb5a-4650-fda3-2b167796892c"
      },
      "source": [
        "y_class = np.zeros(N_test,dtype=int)\n",
        "for k in range(N_test):\n",
        "  for kk in range(K):\n",
        "    if(Y_test[k,kk] == 1):\n",
        "      y_class[k] = kk\n",
        "print(y_class)\n",
        "y_true = y_class.copy()"
      ],
      "execution_count": 34,
      "outputs": [
        {
          "output_type": "error",
          "ename": "IndexError",
          "evalue": "ignored",
          "traceback": [
            "\u001b[0;31m---------------------------------------------------------------------------\u001b[0m",
            "\u001b[0;31mIndexError\u001b[0m                                Traceback (most recent call last)",
            "\u001b[0;32m<ipython-input-34-066a72cc27f8>\u001b[0m in \u001b[0;36m<module>\u001b[0;34m()\u001b[0m\n\u001b[1;32m      2\u001b[0m \u001b[0;32mfor\u001b[0m \u001b[0mk\u001b[0m \u001b[0;32min\u001b[0m \u001b[0mrange\u001b[0m\u001b[0;34m(\u001b[0m\u001b[0mN_test\u001b[0m\u001b[0;34m)\u001b[0m\u001b[0;34m:\u001b[0m\u001b[0;34m\u001b[0m\u001b[0;34m\u001b[0m\u001b[0m\n\u001b[1;32m      3\u001b[0m   \u001b[0;32mfor\u001b[0m \u001b[0mkk\u001b[0m \u001b[0;32min\u001b[0m \u001b[0mrange\u001b[0m\u001b[0;34m(\u001b[0m\u001b[0mK\u001b[0m\u001b[0;34m)\u001b[0m\u001b[0;34m:\u001b[0m\u001b[0;34m\u001b[0m\u001b[0;34m\u001b[0m\u001b[0m\n\u001b[0;32m----> 4\u001b[0;31m     \u001b[0;32mif\u001b[0m\u001b[0;34m(\u001b[0m\u001b[0mY_test\u001b[0m\u001b[0;34m[\u001b[0m\u001b[0mk\u001b[0m\u001b[0;34m,\u001b[0m\u001b[0mkk\u001b[0m\u001b[0;34m]\u001b[0m \u001b[0;34m==\u001b[0m \u001b[0;36m1\u001b[0m\u001b[0;34m)\u001b[0m\u001b[0;34m:\u001b[0m\u001b[0;34m\u001b[0m\u001b[0;34m\u001b[0m\u001b[0m\n\u001b[0m\u001b[1;32m      5\u001b[0m       \u001b[0my_class\u001b[0m\u001b[0;34m[\u001b[0m\u001b[0mk\u001b[0m\u001b[0;34m]\u001b[0m \u001b[0;34m=\u001b[0m \u001b[0mkk\u001b[0m\u001b[0;34m\u001b[0m\u001b[0;34m\u001b[0m\u001b[0m\n\u001b[1;32m      6\u001b[0m \u001b[0mprint\u001b[0m\u001b[0;34m(\u001b[0m\u001b[0my_class\u001b[0m\u001b[0;34m)\u001b[0m\u001b[0;34m\u001b[0m\u001b[0;34m\u001b[0m\u001b[0m\n",
            "\u001b[0;31mIndexError\u001b[0m: too many indices for array: array is 1-dimensional, but 2 were indexed"
          ]
        }
      ]
    },
    {
      "cell_type": "code",
      "metadata": {
        "id": "jz5jmeuStXFj"
      },
      "source": [
        "#Y_test[-2,:]"
      ],
      "execution_count": null,
      "outputs": []
    },
    {
      "cell_type": "code",
      "metadata": {
        "id": "syYA36aFvEzJ"
      },
      "source": [
        "y_class = np.zeros(N_test,dtype=int)\n",
        "for k in range(N_test):\n",
        "  for kk in range(K):\n",
        "    if(y_resp[k,kk] == 1):\n",
        "      y_class[k] = kk\n",
        "y_pred = y_class.copy()"
      ],
      "execution_count": null,
      "outputs": []
    },
    {
      "cell_type": "code",
      "metadata": {
        "id": "21ex3uxFurej"
      },
      "source": [
        "#target_names = ['cardboard', 'glass', 'metal', 'paper', 'plastic', 'trash']\n",
        "# print(classification_report(y_true, y_pred, target_names=target_names))\n",
        "print(classification_report(y_true, y_pred))"
      ],
      "execution_count": null,
      "outputs": []
    }
  ]
}