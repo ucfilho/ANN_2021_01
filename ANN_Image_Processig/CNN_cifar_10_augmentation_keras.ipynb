{
  "nbformat": 4,
  "nbformat_minor": 0,
  "metadata": {
    "accelerator": "GPU",
    "colab": {
      "name": "Class_012_CNN_cifar_10_augmentation_keras.ipynb",
      "provenance": [],
      "authorship_tag": "ABX9TyNpPWBLwA6TxQdKaBz61MYy",
      "include_colab_link": true
    },
    "kernelspec": {
      "display_name": "Python 3",
      "name": "python3"
    },
    "language_info": {
      "name": "python"
    }
  },
  "cells": [
    {
      "cell_type": "markdown",
      "metadata": {
        "id": "view-in-github",
        "colab_type": "text"
      },
      "source": [
        "<a href=\"https://colab.research.google.com/github/ucfilho/ANN_2021_01/blob/main/ANN_Image_Processig/CNN_cifar_10_augmentation_keras.ipynb\" target=\"_parent\"><img src=\"https://colab.research.google.com/assets/colab-badge.svg\" alt=\"Open In Colab\"/></a>"
      ]
    },
    {
      "cell_type": "code",
      "metadata": {
        "id": "hiuSktexsxMX"
      },
      "source": [
        "from matplotlib import pyplot as plt\n",
        "from sklearn import preprocessing\n",
        "from sklearn.model_selection import train_test_split\n",
        "from sklearn.metrics import classification_report\n",
        "import numpy as np\n",
        "import pandas as pd\n",
        "import cv2\n",
        "import random\n",
        "from keras.models import Sequential\n",
        "from keras.layers import Dense, Activation, Conv2D, MaxPooling2D, Flatten, Dropout, BatchNormalization\n",
        "from keras.datasets import cifar10\n",
        "from keras.preprocessing import image"
      ],
      "execution_count": null,
      "outputs": []
    },
    {
      "cell_type": "code",
      "metadata": {
        "colab": {
          "base_uri": "https://localhost:8080/"
        },
        "id": "HuMy717xtDJB",
        "outputId": "ab7a0035-63c2-4e58-e5cf-40d8525f73d0"
      },
      "source": [
        "# load dataset\n",
        "(X_train, Y_train), (X_test, Y_test) = cifar10.load_data()\n",
        "# summarize loaded dataset\n",
        "print('Train: X=%s, y=%s' % (X_train.shape, Y_train.shape))\n",
        "print('Test: X=%s, y=%s' % (X_test.shape, Y_test.shape))\n",
        "\n",
        "Img_Size = 32"
      ],
      "execution_count": null,
      "outputs": [
        {
          "output_type": "stream",
          "text": [
            "Train: X=(50000, 32, 32, 3), y=(50000, 1)\n",
            "Test: X=(10000, 32, 32, 3), y=(10000, 1)\n"
          ],
          "name": "stdout"
        }
      ]
    },
    {
      "cell_type": "code",
      "metadata": {
        "id": "QIPXn6Tine0W"
      },
      "source": [
        "# Y_test"
      ],
      "execution_count": null,
      "outputs": []
    },
    {
      "cell_type": "code",
      "metadata": {
        "id": "svrqRNf7jjZk"
      },
      "source": [
        "Y_test = Y_test.ravel()\n",
        "Y_train = Y_train.ravel()"
      ],
      "execution_count": null,
      "outputs": []
    },
    {
      "cell_type": "code",
      "metadata": {
        "id": "l_t3Zcgqsiwc"
      },
      "source": [
        "# helper\n",
        "def ynindicator(Y):\n",
        "  N = len(Y)\n",
        "  K = len(set(Y))\n",
        "  I = np.zeros((N, K))\n",
        "  I[np.arange(N), Y] = 1\n",
        "  return I\n",
        "\n",
        "X_train = np.array(X_train)\n",
        "Y_train = np.array(Y_train)\n",
        "K = len(set(Y_train))\n",
        "\n",
        "X_train = X_train.reshape(-1, Img_Size, Img_Size, 3) / 255.0\n",
        "Y_train = Y_train.astype(np.int32)\n",
        "#Y_train = Y_train.reshape(1,-1)\n",
        "Y_train = ynindicator(Y_train)\n",
        "\n",
        "X_test = np.array(X_test )\n",
        "Y_test = np.array(Y_test)\n",
        "X_test = X_test.reshape(-1, Img_Size, Img_Size, 3) / 255.0\n",
        "Y_test = Y_test.astype(np.int32)\n",
        "#Y_test = Y_test.reshape(1,-1)\n",
        "Y_test = ynindicator(Y_test)\n",
        "\n",
        "\n",
        "\n",
        "# the model will be a sequence of layers\n",
        "\n",
        "model = Sequential()\n",
        "\n",
        "\n",
        "# make the CNN\n",
        "# model.add(Input(shape=(28, 28, 1)))\n",
        "model.add(Conv2D(input_shape=(Img_Size, Img_Size, 3), filters=32, kernel_size=(3, 3)))\n",
        "model.add(BatchNormalization())\n",
        "model.add(Activation('relu'))\n",
        "model.add(MaxPooling2D())\n",
        "\n",
        "model.add(Conv2D(filters=64, kernel_size=(3, 3)))\n",
        "model.add(BatchNormalization())\n",
        "model.add(Activation('relu'))\n",
        "model.add(MaxPooling2D())\n",
        "\n",
        "model.add(Conv2D(filters=128, kernel_size=(3, 3)))\n",
        "model.add(BatchNormalization())\n",
        "model.add(Activation('relu'))\n",
        "model.add(MaxPooling2D())\n",
        "\n",
        "model.add(Flatten())\n",
        "model.add(Dense(units=80))\n",
        "model.add(Activation('relu'))\n",
        "model.add(Dropout(0.2))\n",
        "model.add(Dense(units=K))\n",
        "model.add(Activation('softmax'))\n",
        "\n",
        "\n",
        "# list of losses: https://keras.io/losses/\n",
        "# list of optimizers: https://keras.io/optimizers/\n",
        "# list of metrics: https://keras.io/metrics/\n",
        "model.compile(\n",
        "  loss='categorical_crossentropy',\n",
        "  optimizer='adam',\n",
        "  metrics=['accuracy']\n",
        ")\n",
        "\n"
      ],
      "execution_count": null,
      "outputs": []
    },
    {
      "cell_type": "code",
      "metadata": {
        "colab": {
          "base_uri": "https://localhost:8080/"
        },
        "id": "5prWPT1EOnyT",
        "outputId": "cebda374-bd46-427c-e6a7-34b5646f77b2"
      },
      "source": [
        "print(Y_train.shape)\n",
        "print(X_train.shape)"
      ],
      "execution_count": null,
      "outputs": [
        {
          "output_type": "stream",
          "text": [
            "(50000, 10)\n",
            "(50000, 32, 32, 3)\n"
          ],
          "name": "stdout"
        }
      ]
    },
    {
      "cell_type": "code",
      "metadata": {
        "colab": {
          "base_uri": "https://localhost:8080/"
        },
        "id": "jdk4mQxIvhRN",
        "outputId": "91f6f6c9-10ae-428d-afab-c489def0a418"
      },
      "source": [
        "# gives us back a <keras.callbacks.History object at 0x112e61a90>\n",
        "#r = model.fit(X_train, Y_train, epochs=15, batch_size=32)\n",
        "r = model.fit(X_train,Y_train, validation_data=(X_test,Y_test), batch_size=10, epochs=50)"
      ],
      "execution_count": null,
      "outputs": [
        {
          "output_type": "stream",
          "text": [
            "Epoch 1/50\n",
            "5000/5000 [==============================] - 35s 4ms/step - loss: 1.6701 - accuracy: 0.3958 - val_loss: 1.3618 - val_accuracy: 0.5171\n",
            "Epoch 2/50\n",
            "5000/5000 [==============================] - 18s 4ms/step - loss: 1.1446 - accuracy: 0.5994 - val_loss: 1.4709 - val_accuracy: 0.5430\n",
            "Epoch 3/50\n",
            "5000/5000 [==============================] - 19s 4ms/step - loss: 0.9832 - accuracy: 0.6560 - val_loss: 0.8407 - val_accuracy: 0.7066\n",
            "Epoch 4/50\n",
            "5000/5000 [==============================] - 18s 4ms/step - loss: 0.8905 - accuracy: 0.6889 - val_loss: 0.9166 - val_accuracy: 0.6847\n",
            "Epoch 5/50\n",
            "5000/5000 [==============================] - 18s 4ms/step - loss: 0.8075 - accuracy: 0.7219 - val_loss: 0.9265 - val_accuracy: 0.6832\n",
            "Epoch 6/50\n",
            "5000/5000 [==============================] - 18s 4ms/step - loss: 0.7446 - accuracy: 0.7439 - val_loss: 0.8835 - val_accuracy: 0.6955\n",
            "Epoch 7/50\n",
            "5000/5000 [==============================] - 19s 4ms/step - loss: 0.6982 - accuracy: 0.7592 - val_loss: 0.8216 - val_accuracy: 0.7243\n",
            "Epoch 8/50\n",
            "5000/5000 [==============================] - 19s 4ms/step - loss: 0.6535 - accuracy: 0.7742 - val_loss: 0.8237 - val_accuracy: 0.7329\n",
            "Epoch 9/50\n",
            "5000/5000 [==============================] - 19s 4ms/step - loss: 0.6163 - accuracy: 0.7857 - val_loss: 0.8406 - val_accuracy: 0.7263\n",
            "Epoch 10/50\n",
            "5000/5000 [==============================] - 18s 4ms/step - loss: 0.5833 - accuracy: 0.7977 - val_loss: 0.8456 - val_accuracy: 0.7269\n",
            "Epoch 11/50\n",
            "5000/5000 [==============================] - 19s 4ms/step - loss: 0.5510 - accuracy: 0.8100 - val_loss: 0.8443 - val_accuracy: 0.7322\n",
            "Epoch 12/50\n",
            "5000/5000 [==============================] - 18s 4ms/step - loss: 0.5182 - accuracy: 0.8217 - val_loss: 0.8334 - val_accuracy: 0.7321\n",
            "Epoch 13/50\n",
            "5000/5000 [==============================] - 18s 4ms/step - loss: 0.4995 - accuracy: 0.8270 - val_loss: 0.7834 - val_accuracy: 0.7539\n",
            "Epoch 14/50\n",
            "5000/5000 [==============================] - 19s 4ms/step - loss: 0.4861 - accuracy: 0.8280 - val_loss: 0.8640 - val_accuracy: 0.7340\n",
            "Epoch 15/50\n",
            "5000/5000 [==============================] - 18s 4ms/step - loss: 0.4594 - accuracy: 0.8425 - val_loss: 0.8136 - val_accuracy: 0.7495\n",
            "Epoch 16/50\n",
            "5000/5000 [==============================] - 19s 4ms/step - loss: 0.4425 - accuracy: 0.8448 - val_loss: 0.8318 - val_accuracy: 0.7508\n",
            "Epoch 17/50\n",
            "5000/5000 [==============================] - 18s 4ms/step - loss: 0.4204 - accuracy: 0.8517 - val_loss: 0.8525 - val_accuracy: 0.7464\n",
            "Epoch 18/50\n",
            "5000/5000 [==============================] - 18s 4ms/step - loss: 0.4138 - accuracy: 0.8572 - val_loss: 0.9068 - val_accuracy: 0.7321\n",
            "Epoch 19/50\n",
            "5000/5000 [==============================] - 18s 4ms/step - loss: 0.3917 - accuracy: 0.8635 - val_loss: 1.0267 - val_accuracy: 0.7137\n",
            "Epoch 20/50\n",
            "5000/5000 [==============================] - 18s 4ms/step - loss: 0.3840 - accuracy: 0.8647 - val_loss: 0.8596 - val_accuracy: 0.7493\n",
            "Epoch 21/50\n",
            "5000/5000 [==============================] - 18s 4ms/step - loss: 0.3730 - accuracy: 0.8700 - val_loss: 0.9274 - val_accuracy: 0.7375\n",
            "Epoch 22/50\n",
            "5000/5000 [==============================] - 18s 4ms/step - loss: 0.3568 - accuracy: 0.8776 - val_loss: 0.9352 - val_accuracy: 0.7356\n",
            "Epoch 23/50\n",
            "5000/5000 [==============================] - 19s 4ms/step - loss: 0.3460 - accuracy: 0.8817 - val_loss: 0.8933 - val_accuracy: 0.7411\n",
            "Epoch 24/50\n",
            "5000/5000 [==============================] - 18s 4ms/step - loss: 0.3497 - accuracy: 0.8758 - val_loss: 0.9138 - val_accuracy: 0.7435\n",
            "Epoch 25/50\n",
            "5000/5000 [==============================] - 18s 4ms/step - loss: 0.3308 - accuracy: 0.8849 - val_loss: 1.0462 - val_accuracy: 0.7268\n",
            "Epoch 26/50\n",
            "5000/5000 [==============================] - 18s 4ms/step - loss: 0.3199 - accuracy: 0.8904 - val_loss: 0.9696 - val_accuracy: 0.7479\n",
            "Epoch 27/50\n",
            "5000/5000 [==============================] - 18s 4ms/step - loss: 0.3105 - accuracy: 0.8909 - val_loss: 1.0587 - val_accuracy: 0.7331\n",
            "Epoch 28/50\n",
            "5000/5000 [==============================] - 18s 4ms/step - loss: 0.3057 - accuracy: 0.8935 - val_loss: 0.9826 - val_accuracy: 0.7427\n",
            "Epoch 29/50\n",
            "5000/5000 [==============================] - 19s 4ms/step - loss: 0.2963 - accuracy: 0.8964 - val_loss: 1.0982 - val_accuracy: 0.7199\n",
            "Epoch 30/50\n",
            "5000/5000 [==============================] - 18s 4ms/step - loss: 0.2945 - accuracy: 0.8975 - val_loss: 1.0416 - val_accuracy: 0.7406\n",
            "Epoch 31/50\n",
            "5000/5000 [==============================] - 18s 4ms/step - loss: 0.2834 - accuracy: 0.9019 - val_loss: 0.9644 - val_accuracy: 0.7464\n",
            "Epoch 32/50\n",
            "5000/5000 [==============================] - 19s 4ms/step - loss: 0.2719 - accuracy: 0.9055 - val_loss: 1.0551 - val_accuracy: 0.7331\n",
            "Epoch 33/50\n",
            "5000/5000 [==============================] - 19s 4ms/step - loss: 0.2699 - accuracy: 0.9058 - val_loss: 1.0731 - val_accuracy: 0.7332\n",
            "Epoch 34/50\n",
            "5000/5000 [==============================] - 18s 4ms/step - loss: 0.2672 - accuracy: 0.9066 - val_loss: 1.1117 - val_accuracy: 0.7323\n",
            "Epoch 35/50\n",
            "5000/5000 [==============================] - 19s 4ms/step - loss: 0.2593 - accuracy: 0.9113 - val_loss: 1.0121 - val_accuracy: 0.7480\n",
            "Epoch 36/50\n",
            "5000/5000 [==============================] - 19s 4ms/step - loss: 0.2570 - accuracy: 0.9122 - val_loss: 1.0923 - val_accuracy: 0.7450\n",
            "Epoch 37/50\n",
            "5000/5000 [==============================] - 18s 4ms/step - loss: 0.2518 - accuracy: 0.9141 - val_loss: 1.0783 - val_accuracy: 0.7354\n",
            "Epoch 38/50\n",
            "5000/5000 [==============================] - 18s 4ms/step - loss: 0.2488 - accuracy: 0.9134 - val_loss: 1.2002 - val_accuracy: 0.7203\n",
            "Epoch 39/50\n",
            "5000/5000 [==============================] - 18s 4ms/step - loss: 0.2483 - accuracy: 0.9134 - val_loss: 1.1283 - val_accuracy: 0.7338\n",
            "Epoch 40/50\n",
            "5000/5000 [==============================] - 18s 4ms/step - loss: 0.2357 - accuracy: 0.9175 - val_loss: 1.1648 - val_accuracy: 0.7183\n",
            "Epoch 41/50\n",
            "5000/5000 [==============================] - 18s 4ms/step - loss: 0.2378 - accuracy: 0.9179 - val_loss: 1.1757 - val_accuracy: 0.7337\n",
            "Epoch 42/50\n",
            "5000/5000 [==============================] - 18s 4ms/step - loss: 0.2304 - accuracy: 0.9215 - val_loss: 1.2653 - val_accuracy: 0.7292\n",
            "Epoch 43/50\n",
            "5000/5000 [==============================] - 19s 4ms/step - loss: 0.2392 - accuracy: 0.9175 - val_loss: 1.1091 - val_accuracy: 0.7458\n",
            "Epoch 44/50\n",
            "5000/5000 [==============================] - 18s 4ms/step - loss: 0.2201 - accuracy: 0.9237 - val_loss: 1.3177 - val_accuracy: 0.7217\n",
            "Epoch 45/50\n",
            "5000/5000 [==============================] - 19s 4ms/step - loss: 0.2209 - accuracy: 0.9235 - val_loss: 1.0701 - val_accuracy: 0.7437\n",
            "Epoch 46/50\n",
            "5000/5000 [==============================] - 19s 4ms/step - loss: 0.2148 - accuracy: 0.9251 - val_loss: 1.2685 - val_accuracy: 0.7249\n",
            "Epoch 47/50\n",
            "5000/5000 [==============================] - 18s 4ms/step - loss: 0.2237 - accuracy: 0.9233 - val_loss: 1.2322 - val_accuracy: 0.7360\n",
            "Epoch 48/50\n",
            "5000/5000 [==============================] - 18s 4ms/step - loss: 0.2094 - accuracy: 0.9280 - val_loss: 1.2362 - val_accuracy: 0.7436\n",
            "Epoch 49/50\n",
            "5000/5000 [==============================] - 19s 4ms/step - loss: 0.2110 - accuracy: 0.9279 - val_loss: 1.1076 - val_accuracy: 0.7527\n",
            "Epoch 50/50\n",
            "5000/5000 [==============================] - 19s 4ms/step - loss: 0.1973 - accuracy: 0.9318 - val_loss: 1.1642 - val_accuracy: 0.7366\n"
          ],
          "name": "stdout"
        }
      ]
    },
    {
      "cell_type": "markdown",
      "metadata": {
        "id": "jfotTO6l1jSj"
      },
      "source": [
        "C"
      ]
    },
    {
      "cell_type": "code",
      "metadata": {
        "id": "Rt0SXEiZvdu4",
        "colab": {
          "base_uri": "https://localhost:8080/"
        },
        "outputId": "dcd7be9a-6304-442f-98a7-41d1ada787a3"
      },
      "source": [
        "\n",
        "# print the available keys\n",
        "# should see: dict_keys(['val_loss', 'acc', 'loss', 'val_acc'])\n",
        "print(r.history.keys())"
      ],
      "execution_count": null,
      "outputs": [
        {
          "output_type": "stream",
          "text": [
            "dict_keys(['loss', 'accuracy', 'val_loss', 'val_accuracy'])\n"
          ],
          "name": "stdout"
        }
      ]
    },
    {
      "cell_type": "code",
      "metadata": {
        "id": "ClGT5XiAvcim",
        "colab": {
          "base_uri": "https://localhost:8080/",
          "height": 265
        },
        "outputId": "82c33121-707b-496d-a8fe-210b25fe05e2"
      },
      "source": [
        "\n",
        "# plot some data\n",
        "plt.plot(r.history['loss'], label='loss')\n",
        "plt.plot(r.history['val_loss'], label='val_loss')\n",
        "plt.legend()\n",
        "plt.show()\n"
      ],
      "execution_count": null,
      "outputs": [
        {
          "output_type": "display_data",
          "data": {
            "image/png": "[encoded data removed]",
            "text/plain": [
              "<Figure size 432x288 with 1 Axes>"
            ]
          },
          "metadata": {
            "tags": [],
            "needs_background": "light"
          }
        }
      ]
    },
    {
      "cell_type": "code",
      "metadata": {
        "id": "roMaf-IAvqro",
        "colab": {
          "base_uri": "https://localhost:8080/",
          "height": 265
        },
        "outputId": "18602f5c-74ff-43f2-d8b2-c138a5d4cc6a"
      },
      "source": [
        "# accuracies\n",
        "plt.plot(r.history['accuracy'], label='acc')\n",
        "plt.plot(r.history['val_accuracy'], label='val_acc')\n",
        "plt.legend()\n",
        "plt.show()"
      ],
      "execution_count": null,
      "outputs": [
        {
          "output_type": "display_data",
          "data": {
            "image/png": "[encoded data removed]",
            "text/plain": [
              "<Figure size 432x288 with 1 Axes>"
            ]
          },
          "metadata": {
            "tags": [],
            "needs_background": "light"
          }
        }
      ]
    },
    {
      "cell_type": "code",
      "metadata": {
        "colab": {
          "base_uri": "https://localhost:8080/"
        },
        "id": "dQkqdgziZkSJ",
        "outputId": "f0612aa8-e4b2-46b8-bd2a-0d4d6c63375d"
      },
      "source": [
        "# Fit with data augmentation\n",
        "# Note: if you run this AFTER calling the previous model.fit(), it will CONTINUE training where it left off\n",
        "batch_size = 32\n",
        "data_generator = image.ImageDataGenerator(width_shift_range=0.1, height_shift_range=0.1, horizontal_flip=True)\n",
        "train_generator = data_generator.flow(X_train, Y_train, batch_size)\n",
        "steps_per_epoch = X_train.shape[0] // batch_size\n",
        "r = model.fit(train_generator, validation_data=(X_test, Y_test), steps_per_epoch=steps_per_epoch, epochs=50)"
      ],
      "execution_count": null,
      "outputs": [
        {
          "output_type": "stream",
          "text": [
            "Epoch 1/50\n",
            "1562/1562 [==============================] - 27s 17ms/step - loss: 0.9191 - accuracy: 0.7065 - val_loss: 0.8545 - val_accuracy: 0.7359\n",
            "Epoch 2/50\n",
            "1562/1562 [==============================] - 25s 16ms/step - loss: 0.8208 - accuracy: 0.7269 - val_loss: 0.9195 - val_accuracy: 0.7119\n",
            "Epoch 3/50\n",
            "1562/1562 [==============================] - 26s 16ms/step - loss: 0.7753 - accuracy: 0.7382 - val_loss: 0.7879 - val_accuracy: 0.7489\n",
            "Epoch 4/50\n",
            "1562/1562 [==============================] - 26s 17ms/step - loss: 0.7446 - accuracy: 0.7506 - val_loss: 0.7210 - val_accuracy: 0.7619\n",
            "Epoch 5/50\n",
            "1562/1562 [==============================] - 25s 16ms/step - loss: 0.7247 - accuracy: 0.7547 - val_loss: 0.6966 - val_accuracy: 0.7718\n",
            "Epoch 6/50\n",
            "1562/1562 [==============================] - 26s 17ms/step - loss: 0.7020 - accuracy: 0.7620 - val_loss: 0.6790 - val_accuracy: 0.7732\n",
            "Epoch 7/50\n",
            "1562/1562 [==============================] - 26s 17ms/step - loss: 0.6872 - accuracy: 0.7669 - val_loss: 0.6329 - val_accuracy: 0.7899\n",
            "Epoch 8/50\n",
            "1562/1562 [==============================] - 26s 17ms/step - loss: 0.6692 - accuracy: 0.7746 - val_loss: 0.6813 - val_accuracy: 0.7781\n",
            "Epoch 9/50\n",
            "1562/1562 [==============================] - 26s 17ms/step - loss: 0.6639 - accuracy: 0.7768 - val_loss: 0.6632 - val_accuracy: 0.7831\n",
            "Epoch 10/50\n",
            "1562/1562 [==============================] - 26s 17ms/step - loss: 0.6538 - accuracy: 0.7780 - val_loss: 0.6925 - val_accuracy: 0.7707\n",
            "Epoch 11/50\n",
            "1562/1562 [==============================] - 26s 17ms/step - loss: 0.6534 - accuracy: 0.7781 - val_loss: 0.6544 - val_accuracy: 0.7830\n",
            "Epoch 12/50\n",
            "1562/1562 [==============================] - 26s 17ms/step - loss: 0.6397 - accuracy: 0.7822 - val_loss: 0.6157 - val_accuracy: 0.7947\n",
            "Epoch 13/50\n",
            "1562/1562 [==============================] - 26s 17ms/step - loss: 0.6363 - accuracy: 0.7834 - val_loss: 0.6482 - val_accuracy: 0.7882\n",
            "Epoch 14/50\n",
            "1562/1562 [==============================] - 26s 17ms/step - loss: 0.6309 - accuracy: 0.7855 - val_loss: 0.6167 - val_accuracy: 0.7969\n",
            "Epoch 15/50\n",
            "1562/1562 [==============================] - 26s 17ms/step - loss: 0.6183 - accuracy: 0.7919 - val_loss: 0.6463 - val_accuracy: 0.7874\n",
            "Epoch 16/50\n",
            "1562/1562 [==============================] - 26s 17ms/step - loss: 0.6188 - accuracy: 0.7894 - val_loss: 0.6095 - val_accuracy: 0.7936\n",
            "Epoch 17/50\n",
            "1562/1562 [==============================] - 26s 17ms/step - loss: 0.6077 - accuracy: 0.7932 - val_loss: 0.6146 - val_accuracy: 0.7981\n",
            "Epoch 18/50\n",
            "1562/1562 [==============================] - 26s 17ms/step - loss: 0.6067 - accuracy: 0.7937 - val_loss: 0.6790 - val_accuracy: 0.7792\n",
            "Epoch 19/50\n",
            "1562/1562 [==============================] - 26s 17ms/step - loss: 0.5998 - accuracy: 0.7955 - val_loss: 0.5869 - val_accuracy: 0.8029\n",
            "Epoch 20/50\n",
            "1562/1562 [==============================] - 26s 16ms/step - loss: 0.5974 - accuracy: 0.7971 - val_loss: 0.5662 - val_accuracy: 0.8110\n",
            "Epoch 21/50\n",
            "1562/1562 [==============================] - 26s 17ms/step - loss: 0.5956 - accuracy: 0.7972 - val_loss: 0.6554 - val_accuracy: 0.7832\n",
            "Epoch 22/50\n",
            "1562/1562 [==============================] - 26s 17ms/step - loss: 0.5865 - accuracy: 0.8013 - val_loss: 0.6071 - val_accuracy: 0.7999\n",
            "Epoch 23/50\n",
            "1562/1562 [==============================] - 27s 17ms/step - loss: 0.5887 - accuracy: 0.8001 - val_loss: 0.7443 - val_accuracy: 0.7623\n",
            "Epoch 24/50\n",
            "1562/1562 [==============================] - 26s 17ms/step - loss: 0.5832 - accuracy: 0.8016 - val_loss: 0.6399 - val_accuracy: 0.7890\n",
            "Epoch 25/50\n",
            "1562/1562 [==============================] - 26s 17ms/step - loss: 0.5778 - accuracy: 0.8044 - val_loss: 0.6088 - val_accuracy: 0.7947\n",
            "Epoch 26/50\n",
            "1562/1562 [==============================] - 25s 16ms/step - loss: 0.5760 - accuracy: 0.8051 - val_loss: 0.5926 - val_accuracy: 0.8031\n",
            "Epoch 27/50\n",
            "1562/1562 [==============================] - 26s 17ms/step - loss: 0.5643 - accuracy: 0.8068 - val_loss: 0.6572 - val_accuracy: 0.7878\n",
            "Epoch 28/50\n",
            "1562/1562 [==============================] - 26s 17ms/step - loss: 0.5708 - accuracy: 0.8055 - val_loss: 0.5810 - val_accuracy: 0.8102\n",
            "Epoch 29/50\n",
            "1562/1562 [==============================] - 25s 16ms/step - loss: 0.5646 - accuracy: 0.8085 - val_loss: 0.8200 - val_accuracy: 0.7447\n",
            "Epoch 30/50\n",
            "1562/1562 [==============================] - 26s 17ms/step - loss: 0.5624 - accuracy: 0.8089 - val_loss: 0.5778 - val_accuracy: 0.8090\n",
            "Epoch 31/50\n",
            "1562/1562 [==============================] - 25s 16ms/step - loss: 0.5581 - accuracy: 0.8104 - val_loss: 0.5730 - val_accuracy: 0.8110\n",
            "Epoch 32/50\n",
            "1562/1562 [==============================] - 26s 16ms/step - loss: 0.5506 - accuracy: 0.8127 - val_loss: 0.6219 - val_accuracy: 0.7930\n",
            "Epoch 33/50\n",
            "1562/1562 [==============================] - 26s 17ms/step - loss: 0.5549 - accuracy: 0.8126 - val_loss: 0.5544 - val_accuracy: 0.8166\n",
            "Epoch 34/50\n",
            "1562/1562 [==============================] - 25s 16ms/step - loss: 0.5495 - accuracy: 0.8126 - val_loss: 0.5946 - val_accuracy: 0.8070\n",
            "Epoch 35/50\n",
            "1562/1562 [==============================] - 26s 17ms/step - loss: 0.5459 - accuracy: 0.8156 - val_loss: 0.6087 - val_accuracy: 0.8049\n",
            "Epoch 36/50\n",
            "1562/1562 [==============================] - 27s 17ms/step - loss: 0.5417 - accuracy: 0.8154 - val_loss: 0.5699 - val_accuracy: 0.8185\n",
            "Epoch 37/50\n",
            "1562/1562 [==============================] - 27s 17ms/step - loss: 0.5491 - accuracy: 0.8132 - val_loss: 0.5792 - val_accuracy: 0.8124\n",
            "Epoch 38/50\n",
            "1562/1562 [==============================] - 27s 17ms/step - loss: 0.5454 - accuracy: 0.8155 - val_loss: 0.5393 - val_accuracy: 0.8242\n",
            "Epoch 39/50\n",
            "1562/1562 [==============================] - 27s 17ms/step - loss: 0.5400 - accuracy: 0.8168 - val_loss: 0.5602 - val_accuracy: 0.8134\n",
            "Epoch 40/50\n",
            "1562/1562 [==============================] - 27s 17ms/step - loss: 0.5398 - accuracy: 0.8162 - val_loss: 0.5641 - val_accuracy: 0.8147\n",
            "Epoch 41/50\n",
            "1562/1562 [==============================] - 26s 17ms/step - loss: 0.5339 - accuracy: 0.8188 - val_loss: 0.6133 - val_accuracy: 0.8043\n",
            "Epoch 42/50\n",
            "1562/1562 [==============================] - 27s 17ms/step - loss: 0.5279 - accuracy: 0.8206 - val_loss: 0.5673 - val_accuracy: 0.8134\n",
            "Epoch 43/50\n",
            "1562/1562 [==============================] - 25s 16ms/step - loss: 0.5300 - accuracy: 0.8204 - val_loss: 0.5901 - val_accuracy: 0.8121\n",
            "Epoch 44/50\n",
            "1562/1562 [==============================] - 26s 17ms/step - loss: 0.5262 - accuracy: 0.8193 - val_loss: 0.5947 - val_accuracy: 0.8134\n",
            "Epoch 45/50\n",
            "1562/1562 [==============================] - 26s 17ms/step - loss: 0.5258 - accuracy: 0.8210 - val_loss: 0.5983 - val_accuracy: 0.8108\n",
            "Epoch 46/50\n",
            "1562/1562 [==============================] - 27s 17ms/step - loss: 0.5245 - accuracy: 0.8211 - val_loss: 0.6251 - val_accuracy: 0.8005\n",
            "Epoch 47/50\n",
            "1562/1562 [==============================] - 27s 17ms/step - loss: 0.5237 - accuracy: 0.8202 - val_loss: 0.5479 - val_accuracy: 0.8197\n",
            "Epoch 48/50\n",
            "1562/1562 [==============================] - 27s 17ms/step - loss: 0.5172 - accuracy: 0.8234 - val_loss: 0.5566 - val_accuracy: 0.8179\n",
            "Epoch 49/50\n",
            "1562/1562 [==============================] - 27s 17ms/step - loss: 0.5163 - accuracy: 0.8258 - val_loss: 0.5433 - val_accuracy: 0.8195\n",
            "Epoch 50/50\n",
            "1562/1562 [==============================] - 27s 17ms/step - loss: 0.5141 - accuracy: 0.8245 - val_loss: 0.5430 - val_accuracy: 0.8260\n"
          ],
          "name": "stdout"
        }
      ]
    },
    {
      "cell_type": "code",
      "metadata": {
        "colab": {
          "base_uri": "https://localhost:8080/",
          "height": 265
        },
        "id": "ORxDPGsHd8F2",
        "outputId": "cc8243a3-33a5-4806-dc32-d66b37102552"
      },
      "source": [
        "# plot some data\n",
        "plt.plot(r.history['loss'], label='loss')\n",
        "plt.plot(r.history['val_loss'], label='val_loss')\n",
        "plt.legend()\n",
        "plt.show()\n"
      ],
      "execution_count": null,
      "outputs": [
        {
          "output_type": "display_data",
          "data": {
            "image/png": "[encoded data removed]",
            "text/plain": [
              "<Figure size 432x288 with 1 Axes>"
            ]
          },
          "metadata": {
            "tags": [],
            "needs_background": "light"
          }
        }
      ]
    },
    {
      "cell_type": "code",
      "metadata": {
        "colab": {
          "base_uri": "https://localhost:8080/",
          "height": 265
        },
        "id": "Lu6-wzYad9p8",
        "outputId": "11e156ae-f9c0-4eb9-e40f-af500c4f19c7"
      },
      "source": [
        "# accuracies\n",
        "plt.plot(r.history['accuracy'], label='acc')\n",
        "plt.plot(r.history['val_accuracy'], label='val_acc')\n",
        "plt.legend()\n",
        "plt.show()"
      ],
      "execution_count": null,
      "outputs": [
        {
          "output_type": "display_data",
          "data": {
            "image/png": "[encoded data removed]",
            "text/plain": [
              "<Figure size 432x288 with 1 Axes>"
            ]
          },
          "metadata": {
            "tags": [],
            "needs_background": "light"
          }
        }
      ]
    },
    {
      "cell_type": "code",
      "metadata": {
        "id": "tgqUk-L2kL3R",
        "colab": {
          "base_uri": "https://localhost:8080/"
        },
        "outputId": "1936d503-352f-47c1-caf1-dffaee7a57a6"
      },
      "source": [
        "ynew = model.predict_classes(X_test)\n",
        "print(ynew)"
      ],
      "execution_count": null,
      "outputs": [
        {
          "output_type": "stream",
          "text": [
            "/usr/local/lib/python3.7/dist-packages/keras/engine/sequential.py:450: UserWarning: `model.predict_classes()` is deprecated and will be removed after 2021-01-01. Please use instead:* `np.argmax(model.predict(x), axis=-1)`,   if your model does multi-class classification   (e.g. if it uses a `softmax` last-layer activation).* `(model.predict(x) > 0.5).astype(\"int32\")`,   if your model does binary classification   (e.g. if it uses a `sigmoid` last-layer activation).\n",
            "  warnings.warn('`model.predict_classes()` is deprecated and '\n"
          ],
          "name": "stderr"
        },
        {
          "output_type": "stream",
          "text": [
            "[3 8 8 ... 5 1 7]\n"
          ],
          "name": "stdout"
        }
      ]
    },
    {
      "cell_type": "code",
      "metadata": {
        "id": "Ke97BDall_6o"
      },
      "source": [
        "N_test = len(ynew)"
      ],
      "execution_count": null,
      "outputs": []
    },
    {
      "cell_type": "code",
      "metadata": {
        "id": "MEah48_2piJS"
      },
      "source": [
        "y_resp = (model.predict(X_test) > 0.5).astype(\"int32\")\n",
        "#print(y_resp)"
      ],
      "execution_count": null,
      "outputs": []
    },
    {
      "cell_type": "code",
      "metadata": {
        "id": "ahdlyTPZw7fu"
      },
      "source": [
        "# model.predict(X_test)"
      ],
      "execution_count": null,
      "outputs": []
    },
    {
      "cell_type": "code",
      "metadata": {
        "id": "LpxchoawxD-U"
      },
      "source": [
        "# (model.predict(X_test)[0] > 0.5).astype(\"int32\")"
      ],
      "execution_count": null,
      "outputs": []
    },
    {
      "cell_type": "code",
      "metadata": {
        "id": "vomVndT8p2jC",
        "colab": {
          "base_uri": "https://localhost:8080/"
        },
        "outputId": "d5311cb6-ce12-4b31-b5ac-69089aad164f"
      },
      "source": [
        "y_class = np.zeros(N_test,dtype=int)\n",
        "for k in range(N_test):\n",
        "  for kk in range(K):\n",
        "    if(Y_test[k,kk] == 1):\n",
        "      y_class[k] = kk\n",
        "print(y_class)\n",
        "y_true = y_class.copy()"
      ],
      "execution_count": null,
      "outputs": [
        {
          "output_type": "stream",
          "text": [
            "[3 8 8 ... 5 1 7]\n"
          ],
          "name": "stdout"
        }
      ]
    },
    {
      "cell_type": "code",
      "metadata": {
        "id": "jz5jmeuStXFj"
      },
      "source": [
        "#Y_test[-2,:]"
      ],
      "execution_count": null,
      "outputs": []
    },
    {
      "cell_type": "code",
      "metadata": {
        "id": "syYA36aFvEzJ"
      },
      "source": [
        "y_class = np.zeros(N_test,dtype=int)\n",
        "for k in range(N_test):\n",
        "  for kk in range(K):\n",
        "    if(y_resp[k,kk] == 1):\n",
        "      y_class[k] = kk\n",
        "y_pred = y_class.copy()"
      ],
      "execution_count": null,
      "outputs": []
    },
    {
      "cell_type": "code",
      "metadata": {
        "id": "21ex3uxFurej",
        "colab": {
          "base_uri": "https://localhost:8080/"
        },
        "outputId": "0bf4138b-f4e7-45b9-aa82-12b817e4a061"
      },
      "source": [
        "#target_names = ['cardboard', 'glass', 'metal', 'paper', 'plastic', 'trash']\n",
        "# print(classification_report(y_true, y_pred, target_names=target_names))\n",
        "print(classification_report(y_true, y_pred))"
      ],
      "execution_count": null,
      "outputs": [
        {
          "output_type": "stream",
          "text": [
            "              precision    recall  f1-score   support\n",
            "\n",
            "           0       0.47      0.88      0.61      1000\n",
            "           1       0.94      0.90      0.92      1000\n",
            "           2       0.88      0.67      0.76      1000\n",
            "           3       0.76      0.59      0.67      1000\n",
            "           4       0.88      0.76      0.81      1000\n",
            "           5       0.82      0.70      0.76      1000\n",
            "           6       0.83      0.90      0.86      1000\n",
            "           7       0.93      0.81      0.86      1000\n",
            "           8       0.92      0.88      0.90      1000\n",
            "           9       0.89      0.90      0.89      1000\n",
            "\n",
            "    accuracy                           0.80     10000\n",
            "   macro avg       0.83      0.80      0.80     10000\n",
            "weighted avg       0.83      0.80      0.80     10000\n",
            "\n"
          ],
          "name": "stdout"
        }
      ]
    }
  ]
}